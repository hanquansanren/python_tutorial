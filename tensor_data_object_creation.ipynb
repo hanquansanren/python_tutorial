{
 "cells": [
  {
   "cell_type": "code",
   "execution_count": 18,
   "metadata": {},
   "outputs": [],
   "source": [
    "import torch\n",
    "import numpy as np"
   ]
  },
  {
   "cell_type": "markdown",
   "metadata": {},
   "source": [
    "#### 1灵活的初始化方法\n",
    "支持list或ndarray输入，默认继承原始的数据类型，并且支持指定数据类型。"
   ]
  },
  {
   "cell_type": "code",
   "execution_count": 23,
   "metadata": {},
   "outputs": [
    {
     "name": "stdout",
     "output_type": "stream",
     "text": [
      "tensor([[ 1, -1],\n",
      "        [ 1, -1]])\n",
      "torch.int64\n",
      "id of a is 2131336238800\n",
      "\n",
      "tensor([[1, 2, 3],\n",
      "        [4, 5, 6]], dtype=torch.int32)\n",
      "torch.int32\n",
      "id of b is 2131339419136\n",
      "\n",
      "tensor([[1, 2, 3],\n",
      "        [4, 5, 6]])\n",
      "torch.int64\n",
      "id of c is 2131339418976\n",
      "\n",
      "tensor([[ 1, -1],\n",
      "        [ 1, -1]], dtype=torch.int32)\n",
      "torch.int32\n",
      "id of d is 2131336240960\n"
     ]
    }
   ],
   "source": [
    "# Initializing and basic operations\n",
    "ccc= [[1, -1], [1, -1]]\n",
    "a = torch.tensor([[1, -1], [1, -1]])\n",
    "b = torch.tensor(np.array([[1, 2, 3], [4, 5, 6]]))\n",
    "c = torch.tensor(np.array([[1, 2, 3], [4, 5, 6]], dtype=np.int64))\n",
    "d = torch.tensor([[1, -1], [1, -1]], dtype=torch.int32)\n",
    "print(a)\n",
    "print(a.dtype)\n",
    "print('id of a is',id(a),end='\\n\\n')\n",
    "\n",
    "print(b)\n",
    "print(b.dtype)\n",
    "print('id of b is',id(b),end='\\n\\n')\n",
    "\n",
    "print(c)\n",
    "print(c.dtype)\n",
    "print('id of c is',id(c),end='\\n\\n')\n",
    "\n",
    "print(d)\n",
    "print(d.dtype)\n",
    "print('id of d is',id(d))"
   ]
  },
  {
   "cell_type": "markdown",
   "metadata": {},
   "source": [
    "#### 2常用的tensor构造器"
   ]
  },
  {
   "cell_type": "code",
   "execution_count": 25,
   "metadata": {},
   "outputs": [
    {
     "name": "stdout",
     "output_type": "stream",
     "text": [
      "tensor([[0., 0., 0., 0.],\n",
      "        [0., 0., 0., 0.]])\n",
      "torch.float32\n",
      "tensor([[1., 1., 1., 1.],\n",
      "        [1., 1., 1., 1.]], device='cuda:0', dtype=torch.float64)\n",
      "torch.float64\n"
     ]
    }
   ],
   "source": [
    "cuda0 = torch.device('cuda:0')\n",
    "\n",
    "e = torch.zeros([2, 4])\n",
    "f = torch.ones([2, 4], dtype=torch.float64, device=cuda0)\n",
    "\n",
    "print(e)\n",
    "print(e.dtype)\n",
    "\n",
    "print(f)\n",
    "print(f.dtype)\n"
   ]
  },
  {
   "cell_type": "code",
   "execution_count": null,
   "metadata": {},
   "outputs": [],
   "source": []
  }
 ],
 "metadata": {
  "kernelspec": {
   "display_name": "Python 3.8.12 ('gpt')",
   "language": "python",
   "name": "python3"
  },
  "language_info": {
   "codemirror_mode": {
    "name": "ipython",
    "version": 3
   },
   "file_extension": ".py",
   "mimetype": "text/x-python",
   "name": "python",
   "nbconvert_exporter": "python",
   "pygments_lexer": "ipython3",
   "version": "3.8.12"
  },
  "orig_nbformat": 4,
  "vscode": {
   "interpreter": {
    "hash": "b87ae1c415bf879c31e2b7111dedfdde99e7fb6020d8739c335659c250c99311"
   }
  }
 },
 "nbformat": 4,
 "nbformat_minor": 2
}
