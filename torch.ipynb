{
 "cells": [
  {
   "cell_type": "code",
   "execution_count": 2,
   "metadata": {},
   "outputs": [],
   "source": [
    "import torch"
   ]
  },
  {
   "cell_type": "code",
   "execution_count": 4,
   "metadata": {},
   "outputs": [
    {
     "name": "stdout",
     "output_type": "stream",
     "text": [
      "tensor([[-1.9224,  1.7443,  0.3528],\n",
      "        [ 0.6287, -0.7736, -0.1793]])\n",
      "True\n",
      "False\n"
     ]
    }
   ],
   "source": [
    "a = torch.randn(2,3) #定义一个标准正态分布（均值为0，方差为1）的随机数张量\n",
    "b = 6\n",
    "print(a)\n",
    "print(torch.is_tensor(a))\n",
    "print(torch.is_tensor(b))\n"
   ]
  },
  {
   "cell_type": "code",
   "execution_count": 3,
   "metadata": {},
   "outputs": [
    {
     "name": "stdout",
     "output_type": "stream",
     "text": [
      "tensor([[0.6989, 0.5152, 0.7836],\n",
      "        [0.8475, 0.9963, 0.1555]])\n",
      " 0.6989085674285889\n",
      " 0.5152345299720764\n",
      " 0.7835797071456909\n",
      " 0.8474761247634888\n",
      " 0.9963153004646301\n",
      " 0.155498206615448\n",
      "[torch.FloatStorage of size 6]\n",
      "False\n",
      "True\n"
     ]
    }
   ],
   "source": [
    "# torch.is_storage()\n",
    "a = torch.rand(2,3) #定义一个在区间[0,1]的均匀分布随机数的张量\n",
    "b = torch.FloatStorage([1,2,3,4,5,6]) #还有ByteStorage,ShortStorage,IntStorage,LongStorage,DoubleStorage\n",
    "print(a)\n",
    "print(a.storage())\n",
    "print(torch.is_storage(a))\n",
    "print(torch.is_storage(b))\n"
   ]
  },
  {
   "cell_type": "code",
   "execution_count": 5,
   "metadata": {},
   "outputs": [
    {
     "name": "stdout",
     "output_type": "stream",
     "text": [
      "tensor([2.+3.j, 4.+6.j])\n",
      "True\n"
     ]
    }
   ],
   "source": [
    "# torch.is_complex()\n",
    "a = torch.tensor([2, 4], dtype = torch.float32)\n",
    "b = torch.tensor([3, 6], dtype = torch.float32)\n",
    "c = torch.complex(a, b)\n",
    "print(c) # tensor([2.+3.j, 4.+6.j])\n",
    "print(torch.is_complex(c)) # True"
   ]
  },
  {
   "cell_type": "code",
   "execution_count": 6,
   "metadata": {},
   "outputs": [
    {
     "name": "stdout",
     "output_type": "stream",
     "text": [
      "tensor([3., 6.], dtype=torch.float64)\n",
      "True\n"
     ]
    }
   ],
   "source": [
    "a = torch.tensor([3, 6], dtype = torch.float64)\n",
    "print(a)# tensor([3., 6.], dtype=torch.float64)\n",
    "print(torch.is_floating_point(a)) # True\n"
   ]
  },
  {
   "cell_type": "markdown",
   "metadata": {},
   "source": [
    "#### 设置dtype"
   ]
  },
  {
   "cell_type": "code",
   "execution_count": 2,
   "metadata": {},
   "outputs": [
    {
     "name": "stdout",
     "output_type": "stream",
     "text": [
      "torch.bool\n",
      "torch.int64\n",
      "torch.float32\n",
      "torch.complex64\n",
      "torch.bool\n",
      "torch.int64\n",
      "torch.float64\n",
      "torch.complex128\n"
     ]
    }
   ],
   "source": [
    "# 如不设置，则输出默认类型，\n",
    "print(torch.tensor([False]).dtype)\n",
    "print(torch.tensor([1, 3]).dtype)\n",
    "print(torch.tensor([1.2, 3]).dtype)\n",
    "print(torch.tensor([1.2, 3j]).dtype)\n",
    "# output：\n",
    "# torch.bool\n",
    "# torch.int64\n",
    "# torch.float32\n",
    "# torch.complex64\n",
    "\n",
    "# 设置后再次输出\n",
    "torch.set_default_dtype(torch.float64)\n",
    "print(torch.tensor([False]).dtype)\n",
    "print(torch.tensor([1, 3]).dtype)\n",
    "print(torch.tensor([1.2, 3]).dtype)\n",
    "print(torch.tensor([1.2, 3j]).dtype)\n",
    "\n",
    "# output：\n",
    "# torch.bool\n",
    "# torch.int64\n",
    "# torch.float64\n",
    "# torch.complex128"
   ]
  },
  {
   "cell_type": "code",
   "execution_count": 3,
   "metadata": {},
   "outputs": [
    {
     "name": "stdout",
     "output_type": "stream",
     "text": [
      "torch.float64\n",
      "torch.float32\n"
     ]
    }
   ],
   "source": [
    "print(torch.get_default_dtype()) # torch.float64\n",
    "torch.set_default_tensor_type(torch.FloatTensor)\n",
    "print(torch.get_default_dtype()) # torch.float32"
   ]
  },
  {
   "cell_type": "markdown",
   "metadata": {},
   "source": [
    "打印设置"
   ]
  },
  {
   "cell_type": "code",
   "execution_count": 9,
   "metadata": {},
   "outputs": [
    {
     "name": "stdout",
     "output_type": "stream",
     "text": [
      "tensor([1.12])\n",
      "tensor([0, 1, 2, 3, 4, 5, 6, 7, 8, 9])\n"
     ]
    }
   ],
   "source": [
    "torch.set_printoptions(precision=2)\n",
    "print(torch.tensor([1.12345]))\n",
    "torch.set_printoptions(threshold=10)\n",
    "print(torch.arange(10))"
   ]
  },
  {
   "cell_type": "code",
   "execution_count": 4,
   "metadata": {},
   "outputs": [
    {
     "name": "stdout",
     "output_type": "stream",
     "text": [
      "tensor([[-0.326266,  ..., -0.461118]])\n",
      "tensor([[-0.326266,\n",
      "          ...,\n",
      "         -0.461118]])\n"
     ]
    }
   ],
   "source": [
    "a = torch.randn(1, 7)\n",
    "print(a) \n",
    "# tensor([[ 1.9613, -0.8069,  0.6356, -0.4459,  0.0860, -0.7173, -1.2878]])\n",
    "torch.set_printoptions(precision = 6, threshold=6, edgeitems=1,linewidth=20 )\n",
    "print(a) \n",
    "# tensor([[-0.326266,\n",
    "#           ...,\n",
    "#          -0.461118]])"
   ]
  },
  {
   "cell_type": "code",
   "execution_count": 2,
   "metadata": {},
   "outputs": [
    {
     "name": "stdout",
     "output_type": "stream",
     "text": [
      "tensor([[ 1.7177,  0.7020, -0.6267,  0.9570, -1.1070]])\n",
      "tensor([[1.72e+00, 7.02e-01, -6.27e-01, 9.57e-01, -1.11e+00]])\n"
     ]
    }
   ],
   "source": [
    "import torch\n",
    "a = torch.randn(1, 3)\n",
    "print(a) \n",
    "# tensor([[ 1.7177,  0.7020, -0.6267,  0.9570, -1.1070]])\n",
    "torch.set_printoptions(profile='short', sci_mode =True)\n",
    "print(a) \n",
    "# tensor([[1.72e+00, 7.02e-01, -6.27e-01, 9.57e-01, -1.11e+00]])"
   ]
  },
  {
   "cell_type": "code",
   "execution_count": 5,
   "metadata": {},
   "outputs": [
    {
     "name": "stdout",
     "output_type": "stream",
     "text": [
      "tensor([ 0.0000, -1.5000,  1.0000])\n",
      "tensor([ 0., -2.,  1.])\n"
     ]
    }
   ],
   "source": [
    "input = torch.tensor([-1.5, 0, 2.0])\n",
    "values = torch.tensor([-1.5])\n",
    "print(torch.heaviside(input, values))\n",
    "values = torch.tensor([1.2, -2.0, 3.5])\n",
    "print(torch.heaviside(input, values))\n"
   ]
  }
 ],
 "metadata": {
  "kernelspec": {
   "display_name": "Python 3.8.12 ('gpt')",
   "language": "python",
   "name": "python3"
  },
  "language_info": {
   "codemirror_mode": {
    "name": "ipython",
    "version": 3
   },
   "file_extension": ".py",
   "mimetype": "text/x-python",
   "name": "python",
   "nbconvert_exporter": "python",
   "pygments_lexer": "ipython3",
   "version": "3.8.12"
  },
  "orig_nbformat": 4,
  "vscode": {
   "interpreter": {
    "hash": "b87ae1c415bf879c31e2b7111dedfdde99e7fb6020d8739c335659c250c99311"
   }
  }
 },
 "nbformat": 4,
 "nbformat_minor": 2
}
