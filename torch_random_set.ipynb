{
 "cells": [
  {
   "cell_type": "code",
   "execution_count": 9,
   "metadata": {},
   "outputs": [
    {
     "name": "stdout",
     "output_type": "stream",
     "text": [
      "666\n",
      "0\n",
      "0\n",
      "True\n"
     ]
    }
   ],
   "source": [
    "import torch\n",
    "# 设置随机数种子\n",
    "torch.manual_seed(666)\n",
    "print(torch.initial_seed()) # 查看随机数种子 666\n",
    "\n",
    "g_2 = torch.manual_seed(0)\n",
    "print(g_2.initial_seed()) # 0\n",
    "\n",
    "# 获取默认的 Generator 实例\n",
    "g_1 = torch.default_generator\n",
    "print(g_1.initial_seed()) # 0\n",
    "\n",
    "# 结果为 True\n",
    "print(g_1 is g_2) # True"
   ]
  },
  {
   "cell_type": "code",
   "execution_count": 19,
   "metadata": {},
   "outputs": [
    {
     "name": "stdout",
     "output_type": "stream",
     "text": [
      "67280421310721\n",
      "1\n"
     ]
    }
   ],
   "source": [
    "# 手动创建的随机数生成器\n",
    "g3 = torch.Generator()\n",
    "print(g3.initial_seed()) # 67280421310721\n",
    "g3.manual_seed(1)\n",
    "print(g3.initial_seed()) # 1"
   ]
  },
  {
   "cell_type": "code",
   "execution_count": 32,
   "metadata": {},
   "outputs": [
    {
     "name": "stdout",
     "output_type": "stream",
     "text": [
      "tensor([0, 4, 2, 3, 1])\n",
      "cpu\n",
      "1\n",
      "tensor([1, 3, 2, 4, 0], device='cuda:0')\n",
      "cuda\n"
     ]
    }
   ],
   "source": [
    "# 使用默认的随机数生成器\n",
    "torch.manual_seed(1)\n",
    "\n",
    "# 结果 tensor([0, 4, 2, 3, 1])\n",
    "print(torch.randperm(5))\n",
    "print(torch.default_generator.device) # cpu\n",
    "\n",
    "# 手动创建随机数生成器\n",
    "G = torch.Generator(device='cuda')\n",
    "G.manual_seed(1)\n",
    "print(G.initial_seed()) # 1\n",
    "\n",
    "# 结果 tensor([0, 4, 2, 3, 1])\n",
    "print(torch.randperm(5, generator=G, device='cuda'))\n",
    "print(G.device) # cuda"
   ]
  },
  {
   "cell_type": "code",
   "execution_count": 34,
   "metadata": {},
   "outputs": [
    {
     "name": "stdout",
     "output_type": "stream",
     "text": [
      "3710802736670458\n"
     ]
    }
   ],
   "source": [
    "# 从std::random_device或当前时间获取不确定的随机数并将其用作生成器的种子\n",
    "G.seed()\n",
    "print(G.initial_seed()) "
   ]
  },
  {
   "cell_type": "code",
   "execution_count": 41,
   "metadata": {},
   "outputs": [
    {
     "name": "stdout",
     "output_type": "stream",
     "text": [
      "576724579900700\n",
      "the id of kk is:  2128861923824\n",
      "67280421310721\n",
      "576724579900700\n",
      "the id of g_cpu_other is:  2128861593168\n"
     ]
    }
   ],
   "source": [
    "kk = torch.Generator()\n",
    "kk.seed()\n",
    "print(kk.initial_seed()) # 576724579900700\n",
    "\n",
    "a=kk.get_state() # 查看该类的状态码\n",
    "# print(G.get_state())\n",
    "print('the id of kk is: ',id(kk)) # the id of kk is:  2128861923824\n",
    "\n",
    "g_cpu_other = torch.Generator()\n",
    "print(g_cpu_other.initial_seed()) # 67280421310721\n",
    "g_cpu_other.set_state(kk.get_state())\n",
    "\n",
    "print(g_cpu_other.initial_seed()) # 576724579900700\n",
    "\n",
    "print('the id of g_cpu_other is: ',id(g_cpu_other)) # the id of g_cpu_other is:  2128861593168"
   ]
  },
  {
   "cell_type": "markdown",
   "metadata": {},
   "source": [
    "## part2 实用随机采样器"
   ]
  },
  {
   "cell_type": "markdown",
   "metadata": {},
   "source": [
    "#### 2.1 伯努利采样器"
   ]
  },
  {
   "cell_type": "code",
   "execution_count": 48,
   "metadata": {},
   "outputs": [
    {
     "name": "stdout",
     "output_type": "stream",
     "text": [
      "tensor([[0.4452, 0.0193, 0.2616],\n",
      "        [0.7713, 0.3785, 0.9980],\n",
      "        [0.9008, 0.4766, 0.1663]])\n",
      "tensor([[0., 0., 1.],\n",
      "        [0., 0., 1.],\n",
      "        [1., 1., 0.]])\n",
      "tensor([[1., 1., 1.],\n",
      "        [1., 1., 1.],\n",
      "        [1., 1., 1.]])\n",
      "tensor([[0., 0., 0.],\n",
      "        [0., 0., 0.],\n",
      "        [0., 0., 0.]])\n"
     ]
    }
   ],
   "source": [
    "# 伯努利采样器\n",
    "a = torch.empty(3, 3).uniform_(0, 1)  # generate a uniform random matrix with range [0, 1]\n",
    "print(a)\n",
    "print(torch.bernoulli(a))\n",
    "\n",
    "a = torch.ones(3, 3) # probability of drawing \"1\" is 1\n",
    "print(torch.bernoulli(a))\n",
    "\n",
    "a = torch.zeros(3, 3) # probability of drawing \"1\" is 0\n",
    "print(torch.bernoulli(a))"
   ]
  },
  {
   "cell_type": "code",
   "execution_count": 68,
   "metadata": {},
   "outputs": [
    {
     "name": "stdout",
     "output_type": "stream",
     "text": [
      "tensor([[0.1478, 0.7444, 0.1408],\n",
      "        [0.3854, 0.8637, 0.8960],\n",
      "        [0.9729, 0.3985, 0.1114]])\n",
      "tensor([[0., 0., 0.],\n",
      "        [1., 1., 1.],\n",
      "        [1., 1., 1.]])\n"
     ]
    }
   ],
   "source": [
    "a = torch.empty(3, 3).uniform_(0, 1)  # generate a uniform random matrix with range [0, 1]\n",
    "print(a)\n",
    "print(torch.bernoulli(a, generator=kk))"
   ]
  },
  {
   "cell_type": "code",
   "execution_count": 100,
   "metadata": {},
   "outputs": [
    {
     "name": "stdout",
     "output_type": "stream",
     "text": [
      "tensor([[1., 0., 1.],\n",
      "        [0., 0., 0.],\n",
      "        [0., 0., 1.]])\n",
      "tensor([[1., 1., 1.],\n",
      "        [1., 1., 1.],\n",
      "        [1., 1., 1.]], device='cuda:0')\n"
     ]
    }
   ],
   "source": [
    "a1=torch.ones(3, 3)\n",
    "b1=torch.empty(3, 3).uniform_(0, 1)\n",
    "a1.bernoulli_(b1)\n",
    "print(a1)\n",
    "\n",
    "c1=torch.randint_like(a1,10,device='cuda')\n",
    "c1.bernoulli_(0.99)\n",
    "print(c1)"
   ]
  },
  {
   "cell_type": "markdown",
   "metadata": {},
   "source": [
    "#### 2.2正态分布采样器"
   ]
  },
  {
   "cell_type": "code",
   "execution_count": 117,
   "metadata": {},
   "outputs": [
    {
     "name": "stdout",
     "output_type": "stream",
     "text": [
      "tensor([ 3.0170,  2.7382,  2.4615,  3.6176,  4.7924,  5.6880,  6.6683,  7.7693,\n",
      "         9.1002, 10.0412])\n",
      "tensor([251.3551, 251.3911, 252.0018, 245.8633, 248.5067], device='cuda:0')\n",
      "tensor([0.8146, 2.0670, 2.9554, 3.9749, 5.0211], device='cuda:0')\n",
      "tensor([[ 1.1248,  3.7747, -1.0588,  6.6303],\n",
      "        [ 1.1274,  5.7302, 17.1167,  8.3153],\n",
      "        [ 8.6236,  2.6557, -9.5730,  6.1679]])\n",
      "tensor([[  21.9903,    8.2003,  -41.6389, -126.4552]])\n"
     ]
    }
   ],
   "source": [
    "a2=torch.normal(mean=torch.arange(1., 11.), std=torch.arange(1, 0, -0.1))\n",
    "print(a2)\n",
    "\n",
    "b2=torch.normal(mean=250, std=torch.arange(1., 6.,device='cuda'))\n",
    "print(b2)\n",
    "\n",
    "c2=torch.normal(mean=torch.arange(1., 6.,device='cuda'), std=0.1)\n",
    "print(c2)\n",
    "\n",
    "d2=torch.normal(mean=torch.arange(1., 13.).reshape(3,4), std=torch.arange(1., 13.).reshape(1,12))\n",
    "print(d2)\n",
    "\n",
    "e2 = torch.normal(0, 88, size=(1, 4))\n",
    "print(e2)"
   ]
  },
  {
   "cell_type": "markdown",
   "metadata": {},
   "source": [
    "#### 2.3 泊松分布采样器"
   ]
  },
  {
   "cell_type": "code",
   "execution_count": 122,
   "metadata": {},
   "outputs": [
    {
     "data": {
      "text/plain": [
       "tensor([[1., 1., 1., 2.],\n",
       "        [6., 6., 2., 1.],\n",
       "        [1., 4., 0., 3.],\n",
       "        [1., 2., 2., 1.]], device='cuda:0')"
      ]
     },
     "execution_count": 122,
     "metadata": {},
     "output_type": "execute_result"
    }
   ],
   "source": [
    "rates = torch.rand(4, 4, device='cuda') * 5  # rate parameter between 0 and 5\n",
    "torch.poisson(rates)"
   ]
  },
  {
   "cell_type": "markdown",
   "metadata": {},
   "source": [
    "#### 2.4多项式分布采样器"
   ]
  },
  {
   "cell_type": "code",
   "execution_count": 178,
   "metadata": {},
   "outputs": [
    {
     "name": "stdout",
     "output_type": "stream",
     "text": [
      "tensor([1, 2])\n",
      "tensor([1, 2, 0, 3])\n",
      "tensor([2, 1, 2, 1])\n"
     ]
    }
   ],
   "source": [
    "weights = torch.tensor([0, 5, 3, 0], dtype=torch.float) # create a tensor of weights\n",
    "print(torch.multinomial(weights, 2))  \n",
    "print(torch.multinomial(weights, 4))\n",
    "\n",
    "print(torch.multinomial(weights, 4, replacement=True))\n"
   ]
  }
 ],
 "metadata": {
  "kernelspec": {
   "display_name": "Python 3.8.12 ('gpt')",
   "language": "python",
   "name": "python3"
  },
  "language_info": {
   "codemirror_mode": {
    "name": "ipython",
    "version": 3
   },
   "file_extension": ".py",
   "mimetype": "text/x-python",
   "name": "python",
   "nbconvert_exporter": "python",
   "pygments_lexer": "ipython3",
   "version": "3.8.12"
  },
  "orig_nbformat": 4,
  "vscode": {
   "interpreter": {
    "hash": "b87ae1c415bf879c31e2b7111dedfdde99e7fb6020d8739c335659c250c99311"
   }
  }
 },
 "nbformat": 4,
 "nbformat_minor": 2
}
