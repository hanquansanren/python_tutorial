{
 "cells": [
  {
   "cell_type": "code",
   "execution_count": 3,
   "metadata": {},
   "outputs": [],
   "source": [
    "import numpy as np\n",
    "import torch\n"
   ]
  },
  {
   "cell_type": "code",
   "execution_count": 4,
   "metadata": {},
   "outputs": [
    {
     "name": "stdout",
     "output_type": "stream",
     "text": [
      "############## 原始数据类型 ##############\n",
      "tensor([[-0.5533,  1.0843],\n",
      "        [-0.5891, -0.2935]])\n",
      "torch.float32\n"
     ]
    }
   ],
   "source": [
    "print(\"############## 原始数据类型 ##############\")\n",
    "a = torch.randn(2, 2)  # 默认类型，Initially dtype=float32, device=cpu\n",
    "print(a)\n",
    "print(a.dtype)"
   ]
  },
  {
   "cell_type": "code",
   "execution_count": 5,
   "metadata": {},
   "outputs": [
    {
     "name": "stdout",
     "output_type": "stream",
     "text": [
      "############## 使用tensor.to 转换后 ##############\n",
      "tensor([[-0.5533,  1.0843],\n",
      "        [-0.5891, -0.2935]], dtype=torch.float64)\n",
      "torch.float64\n"
     ]
    }
   ],
   "source": [
    "print(\"############## 使用tensor.to 转换后 ##############\")\n",
    "b=a.to(torch.float64)\n",
    "print(b)\n",
    "print(b.dtype)"
   ]
  },
  {
   "cell_type": "code",
   "execution_count": 27,
   "metadata": {},
   "outputs": [
    {
     "name": "stdout",
     "output_type": "stream",
     "text": [
      "############## 使用tensor.to 转换，但保持原样数据类型，从而验证参数copy的作用 ##############\n",
      "0x24629323c70\n",
      "0x24629323c70\n",
      "0x24629323590\n",
      "0x24629323590\n",
      "tensor([[ 0.6689, -0.9043],\n",
      "        [ 1.1141, -0.2554]])\n",
      "torch.float32\n",
      "torch.float32\n"
     ]
    }
   ],
   "source": [
    "print(\"############## 使用tensor.to 转换，但保持原样数据类型，从而验证参数copy的作用 ##############\")\n",
    "c=a.to(torch.float32)\n",
    "print(hex(id(a)))\n",
    "print(hex(id(c)))\n",
    "print(hex(id(a[0][0])))\n",
    "print(hex(id(c[0][0])))\n",
    "print(c)\n",
    "print(a.dtype)\n",
    "print(c.dtype)"
   ]
  },
  {
   "cell_type": "code",
   "execution_count": 28,
   "metadata": {},
   "outputs": [
    {
     "name": "stdout",
     "output_type": "stream",
     "text": [
      "############## 对照组，当 copy=True时的输出效果 ##############\n",
      "0x24629323c70\n",
      "0x2462932c590\n",
      "0x2462932c450\n",
      "0x2462932c220\n",
      "tensor([[ 0.6689, -0.9043],\n",
      "        [ 1.1141, -0.2554]])\n",
      "torch.float32\n",
      "torch.float32\n"
     ]
    }
   ],
   "source": [
    "print(\"############## 对照组，当 copy=True时的输出效果 ##############\")\n",
    "d=a.to(torch.float32, copy=True)\n",
    "print(hex(id(a)))\n",
    "print(hex(id(d)))\n",
    "print(hex(id(a[0][0])))\n",
    "print(hex(id(d[0][0])))\n",
    "print(c)\n",
    "print(a.dtype)\n",
    "print(d.dtype)"
   ]
  },
  {
   "cell_type": "code",
   "execution_count": 29,
   "metadata": {},
   "outputs": [
    {
     "name": "stdout",
     "output_type": "stream",
     "text": [
      "############## 验证深复制 ##############\n",
      "tensor([[ 9.9950e+02, -9.0432e-01],\n",
      "        [ 1.1141e+00, -2.5539e-01]], dtype=torch.float64)\n",
      "torch.float64\n",
      "0x24629323b30\n",
      "tensor([[ 0.6689, -0.9043],\n",
      "        [ 1.1141, -0.2554]])\n",
      "torch.float32\n",
      "0x24629323c70\n"
     ]
    }
   ],
   "source": [
    "print(\"############## 验证深复制 ##############\")\n",
    "b[0][0]=999.5\n",
    "print(b)\n",
    "print(b.dtype)\n",
    "print(hex(id(b)))\n",
    "print(a)\n",
    "print(a.dtype)\n",
    "print(hex(id(a)))\n",
    "\n"
   ]
  },
  {
   "cell_type": "code",
   "execution_count": 32,
   "metadata": {},
   "outputs": [
    {
     "name": "stdout",
     "output_type": "stream",
     "text": [
      "tensor([[-0.5810, -0.2508],\n",
      "        [ 0.6758,  0.4693]])\n",
      "torch.float32\n",
      "0x246061fdc70\n",
      "tensor([[-0.5810, -0.2508],\n",
      "        [ 0.6758,  0.4693]], device='cuda:0')\n",
      "torch.float32\n",
      "0x2460621d400\n",
      "tensor([[-0.5810, -0.2508],\n",
      "        [ 0.6758,  0.4693]], device='cuda:0', dtype=torch.float64)\n",
      "torch.float64\n",
      "0x246065a70e0\n"
     ]
    }
   ],
   "source": [
    "cuda0 = torch.device('cuda:0')\n",
    "a2 = torch.randn(2, 2)\n",
    "print(a2)\n",
    "print(a2.dtype)\n",
    "print(hex(id(a2)))\n",
    "b2 = a2.to(cuda0)\n",
    "print(b2)\n",
    "print(b2.dtype)\n",
    "print(hex(id(b2)))\n",
    "\n",
    "c2 = b2.to(cuda0, dtype=torch.float64)\n",
    "print(c2)\n",
    "print(c2.dtype)\n",
    "print(hex(id(c2)))\n"
   ]
  },
  {
   "cell_type": "code",
   "execution_count": 46,
   "metadata": {},
   "outputs": [
    {
     "name": "stdout",
     "output_type": "stream",
     "text": [
      "tensor([[-1.4872],\n",
      "        [-1.9471]])\n",
      "torch.float32\n",
      "0x2465c7670e0\n",
      "tensor([[ 0.6177,  1.3418, -0.5405, -1.5771],\n",
      "        [ 0.6143, -1.0752,  0.1556,  0.7422],\n",
      "        [-1.2363,  0.9189, -0.6006, -1.0938]], device='cuda:0',\n",
      "       dtype=torch.float16)\n",
      "torch.float16\n",
      "0x2460621e450\n",
      "tensor([[-1.4873],\n",
      "        [-1.9473]], device='cuda:0', dtype=torch.float16)\n",
      "torch.float16\n",
      "0x24651d02180\n"
     ]
    }
   ],
   "source": [
    "a3 = torch.randn(2,1)\n",
    "other = torch.randn((3,4), dtype=torch.half, device='cuda:0')\n",
    "print(a3)\n",
    "print(a3.dtype)\n",
    "print(hex(id(a3)))\n",
    "print(other)\n",
    "print(other.dtype)\n",
    "print(hex(id(other)))\n",
    "\n",
    "b3=a3.to(other)\n",
    "print(b3)\n",
    "print(b3.dtype)\n",
    "print(hex(id(b3)))"
   ]
  }
 ],
 "metadata": {
  "kernelspec": {
   "display_name": "Python 3.8.12 ('gpt')",
   "language": "python",
   "name": "python3"
  },
  "language_info": {
   "codemirror_mode": {
    "name": "ipython",
    "version": 3
   },
   "file_extension": ".py",
   "mimetype": "text/x-python",
   "name": "python",
   "nbconvert_exporter": "python",
   "pygments_lexer": "ipython3",
   "version": "3.8.12"
  },
  "orig_nbformat": 4,
  "vscode": {
   "interpreter": {
    "hash": "b87ae1c415bf879c31e2b7111dedfdde99e7fb6020d8739c335659c250c99311"
   }
  }
 },
 "nbformat": 4,
 "nbformat_minor": 2
}
