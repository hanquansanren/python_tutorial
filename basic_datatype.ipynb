{
 "cells": [
  {
   "cell_type": "markdown",
   "metadata": {},
   "source": [
    "\n",
    "#### python中基本数据结构\n",
    "与C/CPP不同，python并不采用值语义的方式存储变量，而是采用引用语义的方式来存储变量。引用语义的意思是\n",
    "\n",
    "\n",
    "\n",
    "\n"
   ]
  },
  {
   "cell_type": "code",
   "execution_count": 3,
   "metadata": {},
   "outputs": [
    {
     "name": "stdout",
     "output_type": "stream",
     "text": [
      "s  abc 2418709913200\n",
      "s2 adc 2418784029040\n",
      "\n",
      "a 10086 2418799814320\n",
      "b 10086 2418799814256\n",
      "\n",
      "aa==bb True\n",
      "aa is bb True\n",
      "aa 1 140728166588160\n",
      "bb 1 140728166588160\n",
      "\n",
      "m [1, 2, 3] 2418788866560\n",
      "m [3, 2, 1] 2418788866560\n",
      "m [3, 2, 1, 2] 2418788866560\n"
     ]
    }
   ],
   "source": [
    "s = 'abc'\n",
    "s2 = s.replace('b', 'd')\n",
    "print('s ', s, id(s))\n",
    "print('s2', s2, id(s2), end='\\n\\n')\n",
    "\n",
    "a=10086\n",
    "b=10086\n",
    "print('a', a, id(a))\n",
    "print('b', b, id(b), end='\\n\\n')\n",
    "\n",
    "aa=1\n",
    "bb=1\n",
    "print('aa==bb', (aa==bb))\n",
    "print('aa is bb', (aa is bb))\n",
    "print('aa', aa, id(aa))\n",
    "print('bb', bb, id(bb), end='\\n\\n')\n",
    "\n",
    "m = [1, 2, 3]\n",
    "print('m', m, id(m))\n",
    "m.reverse()\n",
    "print('m', m, id(m))\n",
    "m.append(2)\n",
    "print('m', m, id(m))"
   ]
  },
  {
   "cell_type": "code",
   "execution_count": 4,
   "metadata": {},
   "outputs": [
    {
     "name": "stdout",
     "output_type": "stream",
     "text": [
      "m [1, 2, 3] 1147677047872\n",
      "n [1, 2] 1147676951808\n",
      "m [1, 2, 3] 1147677047872\n",
      "n [1, 4] 1147676951808\n"
     ]
    }
   ],
   "source": [
    "m = [1, 2, 3]\n",
    "print('m', m, id(m))\n",
    "n = m[0:2]\n",
    "print('n', n, id(n))\n",
    "n[1] = 4\n",
    "print('m', m, id(m))\n",
    "print('n', n, id(n))"
   ]
  },
  {
   "cell_type": "code",
   "execution_count": 7,
   "metadata": {},
   "outputs": [
    {
     "name": "stdout",
     "output_type": "stream",
     "text": [
      "[1, 2, [5]] 1147645511936\n",
      "[1, 4, [5]] 1147676992960\n"
     ]
    }
   ],
   "source": [
    "m = [1, 2, [3]]\n",
    "n = m[:]\n",
    "n[1] = 4\n",
    "n[2][0] = 5\n",
    "print(m,id(m))\n",
    "print(n,id(n))"
   ]
  },
  {
   "cell_type": "code",
   "execution_count": 6,
   "metadata": {},
   "outputs": [
    {
     "name": "stdout",
     "output_type": "stream",
     "text": [
      "[1, 4, [5]] 1147676873408\n",
      "[1, 4, [5]] 1147676873408\n"
     ]
    }
   ],
   "source": [
    "m = [1, 2, [3]]\n",
    "n = m\n",
    "n[1] = 4\n",
    "n[2][0] = 5\n",
    "print(m,id(m))\n",
    "print(n,id(n))"
   ]
  },
  {
   "cell_type": "code",
   "execution_count": 5,
   "metadata": {},
   "outputs": [
    {
     "name": "stdout",
     "output_type": "stream",
     "text": [
      "m [1, 2, 3] 1911950614592\n",
      "m [1, 2, 3, 4] 1911950614592\n",
      "m [1, 2, 3, 4, 5] 1911950615872\n"
     ]
    }
   ],
   "source": [
    "m = [1, 2, 3]\n",
    "print('m', m, id(m))\n",
    "m += [4]\n",
    "print('m', m, id(m))\n",
    "m = m + [5]\n",
    "print('m', m, id(m))"
   ]
  },
  {
   "cell_type": "code",
   "execution_count": null,
   "metadata": {},
   "outputs": [],
   "source": [
    "a = {1:[1,2,3]}\n",
    "b = a\n",
    "print('a', a, id(a))\n",
    "print('b', b, id(b))\n",
    "\n",
    "print('a', a[1], id(a[1]))\n",
    "print('b', b[1], id(b[1]))\n",
    "\n",
    "print('a', a[1][1], id(a[1][1]))\n",
    "print('b', b[1][1], id(b[1][1]))"
   ]
  },
  {
   "cell_type": "code",
   "execution_count": 2,
   "metadata": {},
   "outputs": [
    {
     "name": "stdout",
     "output_type": "stream",
     "text": [
      "a {1: [1, 2, 3]} 2828233271744\n",
      "b {1: [1, 2, 3]} 2828233271040\n",
      "a [1, 2, 3] 2828222137600\n",
      "b [1, 2, 3] 2828222137600\n",
      "a 2 140728205713184\n",
      "b 2 140728205713184\n"
     ]
    }
   ],
   "source": [
    "a = {1:[1,2,3]}\n",
    "b = a.copy()\n",
    "print('a', a, id(a))\n",
    "print('b', b, id(b))\n",
    "\n",
    "print('a', a[1], id(a[1]))\n",
    "print('b', b[1], id(b[1]))\n",
    "\n",
    "print('a', a[1][1], id(a[1][1]))\n",
    "print('b', b[1][1], id(b[1][1]))"
   ]
  },
  {
   "cell_type": "code",
   "execution_count": null,
   "metadata": {},
   "outputs": [],
   "source": [
    "import copy\n",
    "a = {1:[1,2,3]}\n",
    "b = copy.deepcopy(a)\n",
    "print('a', a, id(a))\n",
    "print('b', b, id(b))\n",
    "\n",
    "print('a', a[1], id(a[1]))\n",
    "print('b', b[1], id(b[1]))\n",
    "\n",
    "print('a', a[1][1], id(a[1][1]))\n",
    "print('b', b[1][1], id(b[1][1]))"
   ]
  }
 ],
 "metadata": {
  "kernelspec": {
   "display_name": "Python 3.8.12 ('gpt')",
   "language": "python",
   "name": "python3"
  },
  "language_info": {
   "codemirror_mode": {
    "name": "ipython",
    "version": 3
   },
   "file_extension": ".py",
   "mimetype": "text/x-python",
   "name": "python",
   "nbconvert_exporter": "python",
   "pygments_lexer": "ipython3",
   "version": "3.8.12"
  },
  "orig_nbformat": 4,
  "vscode": {
   "interpreter": {
    "hash": "b87ae1c415bf879c31e2b7111dedfdde99e7fb6020d8739c335659c250c99311"
   }
  }
 },
 "nbformat": 4,
 "nbformat_minor": 2
}
